{
 "cells": [
  {
   "cell_type": "code",
   "execution_count": 1,
   "metadata": {},
   "outputs": [],
   "source": [
    "import segno\n",
    "import base64\n",
    "import math\n",
    "\n",
    "# open file. The executable hello3 was generated using TCC \n",
    "with open(\"finalinfectedwithhardcodedpid\", 'rb') as file:\n",
    "    piece = file.read()\n",
    "\n",
    "#encoding piece into b64. this increases the file size to ~ 4kb. Therefore I need to use QR code version 40 as that supports up to 2953 bytes per image.\n",
    "b6 = base64.b64encode(piece)\n",
    "\n",
    "\n",
    "chunk_size = 2000 \n",
    "chunks = [b6[index:index + chunk_size] for index in range(0, len(b6), chunk_size)]\n",
    "#split image and create qr codes. \n",
    "for index, chunk in enumerate(chunks):\n",
    "    qrcode = segno.make_qr(chunk)\n",
    "    qrcode.save(f\"./img/finalattempt_{index + 1}.png\")\n"
   ]
  },
  {
   "cell_type": "code",
   "execution_count": 1,
   "metadata": {},
   "outputs": [
    {
     "name": "stdout",
     "output_type": "stream",
     "text": [
      "Base64 chunk 1:\n",
      "f0VMRgIBAQAAAAAAAAAAAAIAPgABAAAA4AJAAAAAAABAAAAAAAAAACgGAAAAAAAAAAAAAEAAOAAFAEAAFgAVAAYAAAAFAAAAQAAA...\n",
      "Base64 chunk 2:\n",
      "Lmhhc2gALmR5bmFtaWMALmdvdAAucmVsYS5nb3QALnBsdAAuZ251LnZlcnNpb24ALmdudS52ZXJzaW9uX3IALnNoc3RydGFiAAAA...\n"
     ]
    }
   ],
   "source": [
    "\n",
    "for index, chunk in enumerate(chunks):\n",
    "    \n",
    "    chunk_str = chunk.decode('utf-8')  \n",
    "    print(f\"Base64 chunk {index + 1}:\")\n",
    "    print(chunk_str[:100] + '...') \n",
    "    qrcode = segno.make_qr(chunk)\n",
    "    qrcode.save(f\"basi_{index + 1}.png\")\n"
   ]
  }
 ],
 "metadata": {
  "kernelspec": {
   "display_name": "Python 3",
   "language": "python",
   "name": "python3"
  },
  "language_info": {
   "codemirror_mode": {
    "name": "ipython",
    "version": 3
   },
   "file_extension": ".py",
   "mimetype": "text/x-python",
   "name": "python",
   "nbconvert_exporter": "python",
   "pygments_lexer": "ipython3",
   "version": "3.12.3"
  }
 },
 "nbformat": 4,
 "nbformat_minor": 2
}
