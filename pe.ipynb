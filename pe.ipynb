{
 "cells": [
  {
   "cell_type": "code",
   "execution_count": 2,
   "metadata": {},
   "outputs": [
    {
     "ename": "KeyboardInterrupt",
     "evalue": "",
     "output_type": "error",
     "traceback": [
      "\u001b[0;31m---------------------------------------------------------------------------\u001b[0m",
      "\u001b[0;31mKeyboardInterrupt\u001b[0m                         Traceback (most recent call last)",
      "Cell \u001b[0;32mIn[2], line 17\u001b[0m\n\u001b[1;32m     15\u001b[0m \u001b[38;5;66;03m#split image and create qr codes. \u001b[39;00m\n\u001b[1;32m     16\u001b[0m \u001b[38;5;28;01mfor\u001b[39;00m index, chunk \u001b[38;5;129;01min\u001b[39;00m \u001b[38;5;28menumerate\u001b[39m(chunks):\n\u001b[0;32m---> 17\u001b[0m     qrcode \u001b[38;5;241m=\u001b[39m \u001b[43msegno\u001b[49m\u001b[38;5;241;43m.\u001b[39;49m\u001b[43mmake_qr\u001b[49m\u001b[43m(\u001b[49m\u001b[43mchunk\u001b[49m\u001b[43m)\u001b[49m\n\u001b[1;32m     18\u001b[0m     qrcode\u001b[38;5;241m.\u001b[39msave(\u001b[38;5;124mf\u001b[39m\u001b[38;5;124m\"\u001b[39m\u001b[38;5;124mfinalattempt_\u001b[39m\u001b[38;5;132;01m{\u001b[39;00mindex\u001b[38;5;250m \u001b[39m\u001b[38;5;241m+\u001b[39m\u001b[38;5;250m \u001b[39m\u001b[38;5;241m1\u001b[39m\u001b[38;5;132;01m}\u001b[39;00m\u001b[38;5;124m.png\u001b[39m\u001b[38;5;124m\"\u001b[39m)\n",
      "File \u001b[0;32m~/.local/lib/python3.12/site-packages/segno/__init__.py:152\u001b[0m, in \u001b[0;36mmake_qr\u001b[0;34m(content, error, version, mode, mask, encoding, eci, boost_error)\u001b[0m\n\u001b[1;32m    143\u001b[0m \u001b[38;5;28;01mdef\u001b[39;00m \u001b[38;5;21mmake_qr\u001b[39m(content, error\u001b[38;5;241m=\u001b[39m\u001b[38;5;28;01mNone\u001b[39;00m, version\u001b[38;5;241m=\u001b[39m\u001b[38;5;28;01mNone\u001b[39;00m, mode\u001b[38;5;241m=\u001b[39m\u001b[38;5;28;01mNone\u001b[39;00m, mask\u001b[38;5;241m=\u001b[39m\u001b[38;5;28;01mNone\u001b[39;00m,\n\u001b[1;32m    144\u001b[0m             encoding\u001b[38;5;241m=\u001b[39m\u001b[38;5;28;01mNone\u001b[39;00m, eci\u001b[38;5;241m=\u001b[39m\u001b[38;5;28;01mFalse\u001b[39;00m, boost_error\u001b[38;5;241m=\u001b[39m\u001b[38;5;28;01mTrue\u001b[39;00m):\n\u001b[1;32m    145\u001b[0m \u001b[38;5;250m    \u001b[39m\u001b[38;5;124;03m\"\"\"\\\u001b[39;00m\n\u001b[1;32m    146\u001b[0m \u001b[38;5;124;03m    Creates a QR code (never a Micro QR code).\u001b[39;00m\n\u001b[1;32m    147\u001b[0m \n\u001b[0;32m   (...)\u001b[0m\n\u001b[1;32m    150\u001b[0m \u001b[38;5;124;03m    :rtype: QRCode\u001b[39;00m\n\u001b[1;32m    151\u001b[0m \u001b[38;5;124;03m    \"\"\"\u001b[39;00m\n\u001b[0;32m--> 152\u001b[0m     \u001b[38;5;28;01mreturn\u001b[39;00m \u001b[43mmake\u001b[49m\u001b[43m(\u001b[49m\u001b[43mcontent\u001b[49m\u001b[43m,\u001b[49m\u001b[43m \u001b[49m\u001b[43merror\u001b[49m\u001b[38;5;241;43m=\u001b[39;49m\u001b[43merror\u001b[49m\u001b[43m,\u001b[49m\u001b[43m \u001b[49m\u001b[43mversion\u001b[49m\u001b[38;5;241;43m=\u001b[39;49m\u001b[43mversion\u001b[49m\u001b[43m,\u001b[49m\u001b[43m \u001b[49m\u001b[43mmode\u001b[49m\u001b[38;5;241;43m=\u001b[39;49m\u001b[43mmode\u001b[49m\u001b[43m,\u001b[49m\u001b[43m \u001b[49m\u001b[43mmask\u001b[49m\u001b[38;5;241;43m=\u001b[39;49m\u001b[43mmask\u001b[49m\u001b[43m,\u001b[49m\n\u001b[1;32m    153\u001b[0m \u001b[43m                \u001b[49m\u001b[43mencoding\u001b[49m\u001b[38;5;241;43m=\u001b[39;49m\u001b[43mencoding\u001b[49m\u001b[43m,\u001b[49m\u001b[43m \u001b[49m\u001b[43meci\u001b[49m\u001b[38;5;241;43m=\u001b[39;49m\u001b[43meci\u001b[49m\u001b[43m,\u001b[49m\u001b[43m \u001b[49m\u001b[43mmicro\u001b[49m\u001b[38;5;241;43m=\u001b[39;49m\u001b[38;5;28;43;01mFalse\u001b[39;49;00m\u001b[43m,\u001b[49m\u001b[43m \u001b[49m\u001b[43mboost_error\u001b[49m\u001b[38;5;241;43m=\u001b[39;49m\u001b[43mboost_error\u001b[49m\u001b[43m)\u001b[49m\n",
      "File \u001b[0;32m~/.local/lib/python3.12/site-packages/segno/__init__.py:139\u001b[0m, in \u001b[0;36mmake\u001b[0;34m(content, error, version, mode, mask, encoding, eci, micro, boost_error)\u001b[0m\n\u001b[1;32m     25\u001b[0m \u001b[38;5;28;01mdef\u001b[39;00m \u001b[38;5;21mmake\u001b[39m(content, error\u001b[38;5;241m=\u001b[39m\u001b[38;5;28;01mNone\u001b[39;00m, version\u001b[38;5;241m=\u001b[39m\u001b[38;5;28;01mNone\u001b[39;00m, mode\u001b[38;5;241m=\u001b[39m\u001b[38;5;28;01mNone\u001b[39;00m, mask\u001b[38;5;241m=\u001b[39m\u001b[38;5;28;01mNone\u001b[39;00m, encoding\u001b[38;5;241m=\u001b[39m\u001b[38;5;28;01mNone\u001b[39;00m,\n\u001b[1;32m     26\u001b[0m          eci\u001b[38;5;241m=\u001b[39m\u001b[38;5;28;01mFalse\u001b[39;00m, micro\u001b[38;5;241m=\u001b[39m\u001b[38;5;28;01mNone\u001b[39;00m, boost_error\u001b[38;5;241m=\u001b[39m\u001b[38;5;28;01mTrue\u001b[39;00m):\n\u001b[1;32m     27\u001b[0m \u001b[38;5;250m    \u001b[39m\u001b[38;5;124;03m\"\"\"\\\u001b[39;00m\n\u001b[1;32m     28\u001b[0m \u001b[38;5;124;03m    Creates a (Micro) QR Code.\u001b[39;00m\n\u001b[1;32m     29\u001b[0m \n\u001b[0;32m   (...)\u001b[0m\n\u001b[1;32m    137\u001b[0m \u001b[38;5;124;03m    :rtype: QRCode\u001b[39;00m\n\u001b[1;32m    138\u001b[0m \u001b[38;5;124;03m    \"\"\"\u001b[39;00m\n\u001b[0;32m--> 139\u001b[0m     \u001b[38;5;28;01mreturn\u001b[39;00m QRCode(\u001b[43mencoder\u001b[49m\u001b[38;5;241;43m.\u001b[39;49m\u001b[43mencode\u001b[49m\u001b[43m(\u001b[49m\u001b[43mcontent\u001b[49m\u001b[43m,\u001b[49m\u001b[43m \u001b[49m\u001b[43merror\u001b[49m\u001b[43m,\u001b[49m\u001b[43m \u001b[49m\u001b[43mversion\u001b[49m\u001b[43m,\u001b[49m\u001b[43m \u001b[49m\u001b[43mmode\u001b[49m\u001b[43m,\u001b[49m\u001b[43m \u001b[49m\u001b[43mmask\u001b[49m\u001b[43m,\u001b[49m\u001b[43m \u001b[49m\u001b[43mencoding\u001b[49m\u001b[43m,\u001b[49m\n\u001b[1;32m    140\u001b[0m \u001b[43m                                 \u001b[49m\u001b[43meci\u001b[49m\u001b[43m,\u001b[49m\u001b[43m \u001b[49m\u001b[43mmicro\u001b[49m\u001b[43m,\u001b[49m\u001b[43m \u001b[49m\u001b[43mboost_error\u001b[49m\u001b[38;5;241;43m=\u001b[39;49m\u001b[43mboost_error\u001b[49m\u001b[43m)\u001b[49m)\n",
      "File \u001b[0;32m~/.local/lib/python3.12/site-packages/segno/encoder.py:91\u001b[0m, in \u001b[0;36mencode\u001b[0;34m(content, error, version, mode, mask, encoding, eci, micro, boost_error)\u001b[0m\n\u001b[1;32m     89\u001b[0m is_micro \u001b[38;5;241m=\u001b[39m version \u001b[38;5;241m<\u001b[39m \u001b[38;5;241m1\u001b[39m\n\u001b[1;32m     90\u001b[0m mask \u001b[38;5;241m=\u001b[39m normalize_mask(mask, is_micro)\n\u001b[0;32m---> 91\u001b[0m \u001b[38;5;28;01mreturn\u001b[39;00m \u001b[43m_encode\u001b[49m\u001b[43m(\u001b[49m\u001b[43msegments\u001b[49m\u001b[43m,\u001b[49m\u001b[43m \u001b[49m\u001b[43merror\u001b[49m\u001b[43m,\u001b[49m\u001b[43m \u001b[49m\u001b[43mversion\u001b[49m\u001b[43m,\u001b[49m\u001b[43m \u001b[49m\u001b[43mmask\u001b[49m\u001b[43m,\u001b[49m\u001b[43m \u001b[49m\u001b[43meci\u001b[49m\u001b[43m,\u001b[49m\u001b[43m \u001b[49m\u001b[43mboost_error\u001b[49m\u001b[43m)\u001b[49m\n",
      "File \u001b[0;32m~/.local/lib/python3.12/site-packages/segno/encoder.py:253\u001b[0m, in \u001b[0;36m_encode\u001b[0;34m(segments, error, version, mask, eci, boost_error, sa_info)\u001b[0m\n\u001b[1;32m    250\u001b[0m add_codewords(matrix, buff, version)\n\u001b[1;32m    251\u001b[0m \u001b[38;5;66;03m# ISO/IEC 18004:2015(E) -- 7.8.2 Data mask patterns (page 50)\u001b[39;00m\n\u001b[1;32m    252\u001b[0m \u001b[38;5;66;03m# ISO/IEC 18004:2015(E) -- 7.8.3 Evaluation of data masking results (page 53)\u001b[39;00m\n\u001b[0;32m--> 253\u001b[0m mask, matrix \u001b[38;5;241m=\u001b[39m \u001b[43mfind_and_apply_best_mask\u001b[49m\u001b[43m(\u001b[49m\u001b[43mmatrix\u001b[49m\u001b[43m,\u001b[49m\u001b[43m \u001b[49m\u001b[43mwidth\u001b[49m\u001b[43m,\u001b[49m\u001b[43m \u001b[49m\u001b[43mheight\u001b[49m\u001b[43m,\u001b[49m\u001b[43m \u001b[49m\u001b[43mmask\u001b[49m\u001b[43m)\u001b[49m\n\u001b[1;32m    254\u001b[0m \u001b[38;5;66;03m# ISO/IEC 18004:2015(E) -- 7.9 Format information (page 55)\u001b[39;00m\n\u001b[1;32m    255\u001b[0m add_format_info(matrix, version, error, mask)\n",
      "File \u001b[0;32m~/.local/lib/python3.12/site-packages/segno/encoder.py:646\u001b[0m, in \u001b[0;36mfind_and_apply_best_mask\u001b[0;34m(matrix, width, height, proposed_mask)\u001b[0m\n\u001b[1;32m    644\u001b[0m \u001b[38;5;28;01mfor\u001b[39;00m mask_number, mask_pattern \u001b[38;5;129;01min\u001b[39;00m \u001b[38;5;28menumerate\u001b[39m(mask_patterns):\n\u001b[1;32m    645\u001b[0m     m \u001b[38;5;241m=\u001b[39m [ba[:] \u001b[38;5;28;01mfor\u001b[39;00m ba \u001b[38;5;129;01min\u001b[39;00m matrix]\n\u001b[0;32m--> 646\u001b[0m     \u001b[43mapply_mask\u001b[49m\u001b[43m(\u001b[49m\u001b[43mm\u001b[49m\u001b[43m,\u001b[49m\u001b[43m \u001b[49m\u001b[43mmask_pattern\u001b[49m\u001b[43m,\u001b[49m\u001b[43m \u001b[49m\u001b[43mwidth\u001b[49m\u001b[43m,\u001b[49m\u001b[43m \u001b[49m\u001b[43mheight\u001b[49m\u001b[43m,\u001b[49m\u001b[43m \u001b[49m\u001b[43mis_encoding_region\u001b[49m\u001b[43m)\u001b[49m\n\u001b[1;32m    647\u001b[0m     \u001b[38;5;66;03m# NOTE: DO NOT add format / version info in advance of evaluation\u001b[39;00m\n\u001b[1;32m    648\u001b[0m     \u001b[38;5;66;03m# See ISO/IEC 18004:2015(E) -- 7.8. Data masking (page 50)\u001b[39;00m\n\u001b[1;32m    649\u001b[0m     score \u001b[38;5;241m=\u001b[39m eval_mask(m, width, height)\n",
      "File \u001b[0;32m~/.local/lib/python3.12/site-packages/segno/encoder.py:674\u001b[0m, in \u001b[0;36mapply_mask\u001b[0;34m(matrix, mask_pattern, width, height, is_encoding_region)\u001b[0m\n\u001b[1;32m    672\u001b[0m \u001b[38;5;28;01mfor\u001b[39;00m j \u001b[38;5;129;01min\u001b[39;00m width_range:\n\u001b[1;32m    673\u001b[0m     \u001b[38;5;28;01mif\u001b[39;00m is_encoding_region(i, j):\n\u001b[0;32m--> 674\u001b[0m         row[j] \u001b[38;5;241m^\u001b[39m\u001b[38;5;241m=\u001b[39m mask_pattern(i, j)\n",
      "\u001b[0;31mKeyboardInterrupt\u001b[0m: "
     ]
    }
   ],
   "source": [
    "import segno\n",
    "import base64\n",
    "import math\n",
    "\n",
    "# open file. The executable hello3 was generated using TCC \n",
    "with open(\"finalinfectedwithhardcodedpid\", 'rb') as file:\n",
    "    piece = file.read()\n",
    "\n",
    "#encoding piece into b64. this increases the file size to ~ 4kb. Therefore I need to use QR code version 40 as that supports up to 2953 bytes per image.\n",
    "b6 = base64.b64encode(piece)\n",
    "\n",
    "\n",
    "chunk_size = 2000 \n",
    "chunks = [b6[index:index + chunk_size] for index in range(0, len(b6), chunk_size)]\n",
    "#split image and create qr codes. \n",
    "for index, chunk in enumerate(chunks):\n",
    "    qrcode = segno.make_qr(chunk)\n",
    "    qrcode.save(f\"./img/finalattempt_{index + 1}.png\")\n"
   ]
  },
  {
   "cell_type": "code",
   "execution_count": 1,
   "metadata": {},
   "outputs": [
    {
     "name": "stdout",
     "output_type": "stream",
     "text": [
      "Base64 chunk 1:\n",
      "f0VMRgIBAQAAAAAAAAAAAAIAPgABAAAA4AJAAAAAAABAAAAAAAAAACgGAAAAAAAAAAAAAEAAOAAFAEAAFgAVAAYAAAAFAAAAQAAA...\n",
      "Base64 chunk 2:\n",
      "Lmhhc2gALmR5bmFtaWMALmdvdAAucmVsYS5nb3QALnBsdAAuZ251LnZlcnNpb24ALmdudS52ZXJzaW9uX3IALnNoc3RydGFiAAAA...\n"
     ]
    }
   ],
   "source": [
    "\n",
    "for index, chunk in enumerate(chunks):\n",
    "    \n",
    "    chunk_str = chunk.decode('utf-8')  \n",
    "    print(f\"Base64 chunk {index + 1}:\")\n",
    "    print(chunk_str[:100] + '...') \n",
    "    qrcode = segno.make_qr(chunk)\n",
    "    qrcode.save(f\"basi_{index + 1}.png\")\n"
   ]
  }
 ],
 "metadata": {
  "kernelspec": {
   "display_name": "Python 3",
   "language": "python",
   "name": "python3"
  },
  "language_info": {
   "codemirror_mode": {
    "name": "ipython",
    "version": 3
   },
   "file_extension": ".py",
   "mimetype": "text/x-python",
   "name": "python",
   "nbconvert_exporter": "python",
   "pygments_lexer": "ipython3",
   "version": "3.12.3"
  }
 },
 "nbformat": 4,
 "nbformat_minor": 2
}
